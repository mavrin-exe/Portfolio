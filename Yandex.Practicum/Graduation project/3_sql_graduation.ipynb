{
 "cells": [
  {
   "cell_type": "code",
   "execution_count": 1,
   "id": "65763926",
   "metadata": {},
   "outputs": [],
   "source": [
    "import pandas as pd\n",
    "from sqlalchemy import text, create_engine"
   ]
  },
  {
   "cell_type": "markdown",
   "id": "05217a41",
   "metadata": {
    "toc": true
   },
   "source": [
    "<h1>Содержание<span class=\"tocSkip\"></span></h1>\n",
    "<div class=\"toc\"><ul class=\"toc-item\"><li><span><a href=\"#Знакомство-с-данными\" data-toc-modified-id=\"Знакомство-с-данными-1\"><span class=\"toc-item-num\">1&nbsp;&nbsp;</span>Знакомство с данными</a></span><ul class=\"toc-item\"><li><span><a href=\"#Подсчёт-строк-в-таблицах:\" data-toc-modified-id=\"Подсчёт-строк-в-таблицах:-1.1\"><span class=\"toc-item-num\">1.1&nbsp;&nbsp;</span>Подсчёт строк в таблицах:</a></span></li></ul></li><li><span><a href=\"#Анализ-базы-данных\" data-toc-modified-id=\"Анализ-базы-данных-2\"><span class=\"toc-item-num\">2&nbsp;&nbsp;</span>Анализ базы данных</a></span><ul class=\"toc-item\"><li><span><a href=\"#Кол-во-книг-после-01.01.2000\" data-toc-modified-id=\"Кол-во-книг-после-01.01.2000-2.1\"><span class=\"toc-item-num\">2.1&nbsp;&nbsp;</span>Кол-во книг после 01.01.2000</a></span></li><li><span><a href=\"#Кол-во-обзоров-и-средняя-оценка\" data-toc-modified-id=\"Кол-во-обзоров-и-средняя-оценка-2.2\"><span class=\"toc-item-num\">2.2&nbsp;&nbsp;</span>Кол-во обзоров и средняя оценка</a></span></li><li><span><a href=\"#Поиск-издательства\" data-toc-modified-id=\"Поиск-издательства-2.3\"><span class=\"toc-item-num\">2.3&nbsp;&nbsp;</span>Поиск издательства</a></span></li><li><span><a href=\"#Поиск-автора\" data-toc-modified-id=\"Поиск-автора-2.4\"><span class=\"toc-item-num\">2.4&nbsp;&nbsp;</span>Поиск автора</a></span></li><li><span><a href=\"#Оценки\" data-toc-modified-id=\"Оценки-2.5\"><span class=\"toc-item-num\">2.5&nbsp;&nbsp;</span>Оценки</a></span></li><li><span><a href=\"#Выводы:\" data-toc-modified-id=\"Выводы:-2.6\"><span class=\"toc-item-num\">2.6&nbsp;&nbsp;</span>Выводы:</a></span></li></ul></li></ul></div>"
   ]
  },
  {
   "cell_type": "markdown",
   "id": "27e016a8",
   "metadata": {},
   "source": [
    "<font color='Black' size=+2><b>Анализ базы данных читательского сервиса</b></font><br>\n",
    "\n",
    "Наша компания хочет занять свою долю на рынке читательских сервисов по подписке. Для этого мы только что приобрели известный сервис и сейчас необходимо детально изучить базы данных книг, которые есть в продаже на данный момент.\n",
    "\n",
    "Это поможет нам лучше спозиционировать себя и предпринять первые шаги по завоеванию внимания читателей."
   ]
  },
  {
   "cell_type": "code",
   "execution_count": 2,
   "id": "1afd6cc2",
   "metadata": {},
   "outputs": [],
   "source": [
    "db_config = {'user': 'praktikum_student', \n",
    "'pwd': 'Sdf4$2;d-d30pp',\n",
    "'host': 'rc1b-wcoijxj3yxfsf3fs.mdb.yandexcloud.net',\n",
    "'port': 6432, \n",
    "'db': 'data-analyst-final-project-db'}\n",
    "connection_string = 'postgresql://{user}:{pwd}@{host}:{port}/{db}'.format(**db_config)\n",
    "engine = create_engine(connection_string, connect_args={'sslmode':'require'})"
   ]
  },
  {
   "cell_type": "code",
   "execution_count": 3,
   "id": "9eff7e4c",
   "metadata": {},
   "outputs": [],
   "source": [
    "#для упрощения запуска напишем функцию:\n",
    "def revelio(query):\n",
    "    con=engine.connect()\n",
    "    return pd.io.sql.read_sql(sql=text(query), con = con)"
   ]
  },
  {
   "cell_type": "markdown",
   "id": "b2dd6b7a",
   "metadata": {},
   "source": [
    "## Знакомство с данными\n",
    "\n",
    "База данных содержит 5 таблиц. Выведем на экран первые пять строк каждой таблицы:"
   ]
  },
  {
   "cell_type": "markdown",
   "id": "c90ede80",
   "metadata": {},
   "source": [
    "______________________\n",
    "Таблица **books** cодержит данные о книгах:\n",
    "\n",
    "- book_id — идентификатор книги;\n",
    "- author_id — идентификатор автора;\n",
    "- title — название книги;\n",
    "- num_pages — количество страниц;\n",
    "- publication_date — дата публикации книги;\n",
    "- publisher_id — идентификатор издателя."
   ]
  },
  {
   "cell_type": "code",
   "execution_count": 4,
   "id": "b7e9af9d",
   "metadata": {},
   "outputs": [
    {
     "data": {
      "text/html": [
       "<div>\n",
       "<style scoped>\n",
       "    .dataframe tbody tr th:only-of-type {\n",
       "        vertical-align: middle;\n",
       "    }\n",
       "\n",
       "    .dataframe tbody tr th {\n",
       "        vertical-align: top;\n",
       "    }\n",
       "\n",
       "    .dataframe thead th {\n",
       "        text-align: right;\n",
       "    }\n",
       "</style>\n",
       "<table border=\"1\" class=\"dataframe\">\n",
       "  <thead>\n",
       "    <tr style=\"text-align: right;\">\n",
       "      <th></th>\n",
       "      <th>book_id</th>\n",
       "      <th>author_id</th>\n",
       "      <th>title</th>\n",
       "      <th>num_pages</th>\n",
       "      <th>publication_date</th>\n",
       "      <th>publisher_id</th>\n",
       "    </tr>\n",
       "  </thead>\n",
       "  <tbody>\n",
       "    <tr>\n",
       "      <th>0</th>\n",
       "      <td>1</td>\n",
       "      <td>546</td>\n",
       "      <td>'Salem's Lot</td>\n",
       "      <td>594</td>\n",
       "      <td>2005-11-01</td>\n",
       "      <td>93</td>\n",
       "    </tr>\n",
       "    <tr>\n",
       "      <th>1</th>\n",
       "      <td>2</td>\n",
       "      <td>465</td>\n",
       "      <td>1 000 Places to See Before You Die</td>\n",
       "      <td>992</td>\n",
       "      <td>2003-05-22</td>\n",
       "      <td>336</td>\n",
       "    </tr>\n",
       "    <tr>\n",
       "      <th>2</th>\n",
       "      <td>3</td>\n",
       "      <td>407</td>\n",
       "      <td>13 Little Blue Envelopes (Little Blue Envelope...</td>\n",
       "      <td>322</td>\n",
       "      <td>2010-12-21</td>\n",
       "      <td>135</td>\n",
       "    </tr>\n",
       "    <tr>\n",
       "      <th>3</th>\n",
       "      <td>4</td>\n",
       "      <td>82</td>\n",
       "      <td>1491: New Revelations of the Americas Before C...</td>\n",
       "      <td>541</td>\n",
       "      <td>2006-10-10</td>\n",
       "      <td>309</td>\n",
       "    </tr>\n",
       "    <tr>\n",
       "      <th>4</th>\n",
       "      <td>5</td>\n",
       "      <td>125</td>\n",
       "      <td>1776</td>\n",
       "      <td>386</td>\n",
       "      <td>2006-07-04</td>\n",
       "      <td>268</td>\n",
       "    </tr>\n",
       "  </tbody>\n",
       "</table>\n",
       "</div>"
      ],
      "text/plain": [
       "   book_id  author_id                                              title  \\\n",
       "0        1        546                                       'Salem's Lot   \n",
       "1        2        465                 1 000 Places to See Before You Die   \n",
       "2        3        407  13 Little Blue Envelopes (Little Blue Envelope...   \n",
       "3        4         82  1491: New Revelations of the Americas Before C...   \n",
       "4        5        125                                               1776   \n",
       "\n",
       "   num_pages publication_date  publisher_id  \n",
       "0        594       2005-11-01            93  \n",
       "1        992       2003-05-22           336  \n",
       "2        322       2010-12-21           135  \n",
       "3        541       2006-10-10           309  \n",
       "4        386       2006-07-04           268  "
      ]
     },
     "execution_count": 4,
     "metadata": {},
     "output_type": "execute_result"
    }
   ],
   "source": [
    "query = '''\n",
    "\n",
    "SELECT *\n",
    "FROM books\n",
    "LIMIT 5\n",
    "\n",
    "'''\n",
    "\n",
    "revelio(query)"
   ]
  },
  {
   "cell_type": "markdown",
   "id": "2b06c9b2",
   "metadata": {},
   "source": [
    "________________________\n",
    "Таблица **authors** cодержит данные об авторах:\n",
    "\n",
    "- author_id — идентификатор автора;\n",
    "- author — имя автора"
   ]
  },
  {
   "cell_type": "code",
   "execution_count": 5,
   "id": "bba5be5a",
   "metadata": {
    "scrolled": false
   },
   "outputs": [
    {
     "data": {
      "text/html": [
       "<div>\n",
       "<style scoped>\n",
       "    .dataframe tbody tr th:only-of-type {\n",
       "        vertical-align: middle;\n",
       "    }\n",
       "\n",
       "    .dataframe tbody tr th {\n",
       "        vertical-align: top;\n",
       "    }\n",
       "\n",
       "    .dataframe thead th {\n",
       "        text-align: right;\n",
       "    }\n",
       "</style>\n",
       "<table border=\"1\" class=\"dataframe\">\n",
       "  <thead>\n",
       "    <tr style=\"text-align: right;\">\n",
       "      <th></th>\n",
       "      <th>author_id</th>\n",
       "      <th>author</th>\n",
       "    </tr>\n",
       "  </thead>\n",
       "  <tbody>\n",
       "    <tr>\n",
       "      <th>0</th>\n",
       "      <td>1</td>\n",
       "      <td>A.S. Byatt</td>\n",
       "    </tr>\n",
       "    <tr>\n",
       "      <th>1</th>\n",
       "      <td>2</td>\n",
       "      <td>Aesop/Laura Harris/Laura Gibbs</td>\n",
       "    </tr>\n",
       "    <tr>\n",
       "      <th>2</th>\n",
       "      <td>3</td>\n",
       "      <td>Agatha Christie</td>\n",
       "    </tr>\n",
       "    <tr>\n",
       "      <th>3</th>\n",
       "      <td>4</td>\n",
       "      <td>Alan Brennert</td>\n",
       "    </tr>\n",
       "    <tr>\n",
       "      <th>4</th>\n",
       "      <td>5</td>\n",
       "      <td>Alan Moore/David   Lloyd</td>\n",
       "    </tr>\n",
       "  </tbody>\n",
       "</table>\n",
       "</div>"
      ],
      "text/plain": [
       "   author_id                          author\n",
       "0          1                      A.S. Byatt\n",
       "1          2  Aesop/Laura Harris/Laura Gibbs\n",
       "2          3                 Agatha Christie\n",
       "3          4                   Alan Brennert\n",
       "4          5        Alan Moore/David   Lloyd"
      ]
     },
     "execution_count": 5,
     "metadata": {},
     "output_type": "execute_result"
    }
   ],
   "source": [
    "query = '''\n",
    "\n",
    "SELECT *\n",
    "FROM authors\n",
    "LIMIT 5\n",
    "\n",
    "'''\n",
    "\n",
    "revelio(query)"
   ]
  },
  {
   "cell_type": "markdown",
   "id": "c8d936ae",
   "metadata": {},
   "source": [
    "_________________________\n",
    "Таблица **publishers** cодержит данные об издательствах:\n",
    "\n",
    "- publisher_id — идентификатор издательства;\n",
    "- publisher — название издательства;"
   ]
  },
  {
   "cell_type": "code",
   "execution_count": 6,
   "id": "ad9024e9",
   "metadata": {},
   "outputs": [
    {
     "data": {
      "text/html": [
       "<div>\n",
       "<style scoped>\n",
       "    .dataframe tbody tr th:only-of-type {\n",
       "        vertical-align: middle;\n",
       "    }\n",
       "\n",
       "    .dataframe tbody tr th {\n",
       "        vertical-align: top;\n",
       "    }\n",
       "\n",
       "    .dataframe thead th {\n",
       "        text-align: right;\n",
       "    }\n",
       "</style>\n",
       "<table border=\"1\" class=\"dataframe\">\n",
       "  <thead>\n",
       "    <tr style=\"text-align: right;\">\n",
       "      <th></th>\n",
       "      <th>publisher_id</th>\n",
       "      <th>publisher</th>\n",
       "    </tr>\n",
       "  </thead>\n",
       "  <tbody>\n",
       "    <tr>\n",
       "      <th>0</th>\n",
       "      <td>1</td>\n",
       "      <td>Ace</td>\n",
       "    </tr>\n",
       "    <tr>\n",
       "      <th>1</th>\n",
       "      <td>2</td>\n",
       "      <td>Ace Book</td>\n",
       "    </tr>\n",
       "    <tr>\n",
       "      <th>2</th>\n",
       "      <td>3</td>\n",
       "      <td>Ace Books</td>\n",
       "    </tr>\n",
       "    <tr>\n",
       "      <th>3</th>\n",
       "      <td>4</td>\n",
       "      <td>Ace Hardcover</td>\n",
       "    </tr>\n",
       "    <tr>\n",
       "      <th>4</th>\n",
       "      <td>5</td>\n",
       "      <td>Addison Wesley Publishing Company</td>\n",
       "    </tr>\n",
       "  </tbody>\n",
       "</table>\n",
       "</div>"
      ],
      "text/plain": [
       "   publisher_id                          publisher\n",
       "0             1                                Ace\n",
       "1             2                           Ace Book\n",
       "2             3                          Ace Books\n",
       "3             4                      Ace Hardcover\n",
       "4             5  Addison Wesley Publishing Company"
      ]
     },
     "execution_count": 6,
     "metadata": {},
     "output_type": "execute_result"
    }
   ],
   "source": [
    "query = '''\n",
    "\n",
    "SELECT *\n",
    "FROM publishers\n",
    "LIMIT 5\n",
    "\n",
    "'''\n",
    "\n",
    "revelio(query)"
   ]
  },
  {
   "cell_type": "markdown",
   "id": "74be3af5",
   "metadata": {},
   "source": [
    "________________________\n",
    "Таблица **ratings** cодержит данные о пользовательских оценках книг:\n",
    "\n",
    "- rating_id — идентификатор оценки;\n",
    "- book_id — идентификатор книги;\n",
    "- username — имя пользователя, оставившего оценку;\n",
    "- rating — оценка книги."
   ]
  },
  {
   "cell_type": "code",
   "execution_count": 7,
   "id": "e9cfe0a3",
   "metadata": {},
   "outputs": [
    {
     "data": {
      "text/html": [
       "<div>\n",
       "<style scoped>\n",
       "    .dataframe tbody tr th:only-of-type {\n",
       "        vertical-align: middle;\n",
       "    }\n",
       "\n",
       "    .dataframe tbody tr th {\n",
       "        vertical-align: top;\n",
       "    }\n",
       "\n",
       "    .dataframe thead th {\n",
       "        text-align: right;\n",
       "    }\n",
       "</style>\n",
       "<table border=\"1\" class=\"dataframe\">\n",
       "  <thead>\n",
       "    <tr style=\"text-align: right;\">\n",
       "      <th></th>\n",
       "      <th>rating_id</th>\n",
       "      <th>book_id</th>\n",
       "      <th>username</th>\n",
       "      <th>rating</th>\n",
       "    </tr>\n",
       "  </thead>\n",
       "  <tbody>\n",
       "    <tr>\n",
       "      <th>0</th>\n",
       "      <td>1</td>\n",
       "      <td>1</td>\n",
       "      <td>ryanfranco</td>\n",
       "      <td>4</td>\n",
       "    </tr>\n",
       "    <tr>\n",
       "      <th>1</th>\n",
       "      <td>2</td>\n",
       "      <td>1</td>\n",
       "      <td>grantpatricia</td>\n",
       "      <td>2</td>\n",
       "    </tr>\n",
       "    <tr>\n",
       "      <th>2</th>\n",
       "      <td>3</td>\n",
       "      <td>1</td>\n",
       "      <td>brandtandrea</td>\n",
       "      <td>5</td>\n",
       "    </tr>\n",
       "    <tr>\n",
       "      <th>3</th>\n",
       "      <td>4</td>\n",
       "      <td>2</td>\n",
       "      <td>lorichen</td>\n",
       "      <td>3</td>\n",
       "    </tr>\n",
       "    <tr>\n",
       "      <th>4</th>\n",
       "      <td>5</td>\n",
       "      <td>2</td>\n",
       "      <td>mariokeller</td>\n",
       "      <td>2</td>\n",
       "    </tr>\n",
       "  </tbody>\n",
       "</table>\n",
       "</div>"
      ],
      "text/plain": [
       "   rating_id  book_id       username  rating\n",
       "0          1        1     ryanfranco       4\n",
       "1          2        1  grantpatricia       2\n",
       "2          3        1   brandtandrea       5\n",
       "3          4        2       lorichen       3\n",
       "4          5        2    mariokeller       2"
      ]
     },
     "execution_count": 7,
     "metadata": {},
     "output_type": "execute_result"
    }
   ],
   "source": [
    "query = '''\n",
    "\n",
    "SELECT *\n",
    "FROM ratings\n",
    "LIMIT 5\n",
    "\n",
    "'''\n",
    "\n",
    "revelio(query)"
   ]
  },
  {
   "cell_type": "markdown",
   "id": "4dba8367",
   "metadata": {},
   "source": [
    "_________________\n",
    "Таблица **reviews** cодержит данные о пользовательских обзорах на книги:\n",
    "\n",
    "- review_id — идентификатор обзора;\n",
    "- book_id — идентификатор книги;\n",
    "- username — имя пользователя, написавшего обзор;\n",
    "- text— текст обзора."
   ]
  },
  {
   "cell_type": "code",
   "execution_count": 8,
   "id": "b68cbeb8",
   "metadata": {},
   "outputs": [
    {
     "data": {
      "text/html": [
       "<div>\n",
       "<style scoped>\n",
       "    .dataframe tbody tr th:only-of-type {\n",
       "        vertical-align: middle;\n",
       "    }\n",
       "\n",
       "    .dataframe tbody tr th {\n",
       "        vertical-align: top;\n",
       "    }\n",
       "\n",
       "    .dataframe thead th {\n",
       "        text-align: right;\n",
       "    }\n",
       "</style>\n",
       "<table border=\"1\" class=\"dataframe\">\n",
       "  <thead>\n",
       "    <tr style=\"text-align: right;\">\n",
       "      <th></th>\n",
       "      <th>review_id</th>\n",
       "      <th>book_id</th>\n",
       "      <th>username</th>\n",
       "      <th>text</th>\n",
       "    </tr>\n",
       "  </thead>\n",
       "  <tbody>\n",
       "    <tr>\n",
       "      <th>0</th>\n",
       "      <td>1</td>\n",
       "      <td>1</td>\n",
       "      <td>brandtandrea</td>\n",
       "      <td>Mention society tell send professor analysis. ...</td>\n",
       "    </tr>\n",
       "    <tr>\n",
       "      <th>1</th>\n",
       "      <td>2</td>\n",
       "      <td>1</td>\n",
       "      <td>ryanfranco</td>\n",
       "      <td>Foot glass pretty audience hit themselves. Amo...</td>\n",
       "    </tr>\n",
       "    <tr>\n",
       "      <th>2</th>\n",
       "      <td>3</td>\n",
       "      <td>2</td>\n",
       "      <td>lorichen</td>\n",
       "      <td>Listen treat keep worry. Miss husband tax but ...</td>\n",
       "    </tr>\n",
       "    <tr>\n",
       "      <th>3</th>\n",
       "      <td>4</td>\n",
       "      <td>3</td>\n",
       "      <td>johnsonamanda</td>\n",
       "      <td>Finally month interesting blue could nature cu...</td>\n",
       "    </tr>\n",
       "    <tr>\n",
       "      <th>4</th>\n",
       "      <td>5</td>\n",
       "      <td>3</td>\n",
       "      <td>scotttamara</td>\n",
       "      <td>Nation purpose heavy give wait song will. List...</td>\n",
       "    </tr>\n",
       "  </tbody>\n",
       "</table>\n",
       "</div>"
      ],
      "text/plain": [
       "   review_id  book_id       username  \\\n",
       "0          1        1   brandtandrea   \n",
       "1          2        1     ryanfranco   \n",
       "2          3        2       lorichen   \n",
       "3          4        3  johnsonamanda   \n",
       "4          5        3    scotttamara   \n",
       "\n",
       "                                                text  \n",
       "0  Mention society tell send professor analysis. ...  \n",
       "1  Foot glass pretty audience hit themselves. Amo...  \n",
       "2  Listen treat keep worry. Miss husband tax but ...  \n",
       "3  Finally month interesting blue could nature cu...  \n",
       "4  Nation purpose heavy give wait song will. List...  "
      ]
     },
     "execution_count": 8,
     "metadata": {},
     "output_type": "execute_result"
    }
   ],
   "source": [
    "query = '''\n",
    "\n",
    "SELECT *\n",
    "FROM reviews\n",
    "LIMIT 5\n",
    "\n",
    "'''\n",
    "\n",
    "revelio(query)"
   ]
  },
  {
   "cell_type": "markdown",
   "id": "9d6b23d5",
   "metadata": {},
   "source": [
    "### Подсчёт строк в таблицах:"
   ]
  },
  {
   "cell_type": "code",
   "execution_count": 9,
   "id": "7c2d108d",
   "metadata": {
    "scrolled": false
   },
   "outputs": [],
   "source": [
    "query_1 = '''\n",
    "\n",
    "SELECT COUNT(book_id) AS books_total\n",
    "FROM books\n",
    "\n",
    "'''\n",
    "\n",
    "query_2 = '''\n",
    "\n",
    "SELECT COUNT(review_id) AS reviews_total\n",
    "FROM reviews\n",
    "\n",
    "'''\n",
    "\n",
    "query_3 = '''\n",
    "\n",
    "SELECT COUNT(author_id) AS authors_total\n",
    "FROM authors\n",
    "\n",
    "'''\n",
    "\n",
    "query_4 = '''\n",
    "\n",
    "SELECT COUNT(rating_id) AS ratings_total\n",
    "FROM ratings\n",
    "\n",
    "'''\n",
    "\n",
    "query_5 = '''\n",
    "\n",
    "SELECT COUNT(publisher_id) AS publishers_total\n",
    "FROM publishers\n",
    "\n",
    "'''"
   ]
  },
  {
   "cell_type": "code",
   "execution_count": 10,
   "id": "544b127c",
   "metadata": {},
   "outputs": [
    {
     "data": {
      "text/html": [
       "<div>\n",
       "<style scoped>\n",
       "    .dataframe tbody tr th:only-of-type {\n",
       "        vertical-align: middle;\n",
       "    }\n",
       "\n",
       "    .dataframe tbody tr th {\n",
       "        vertical-align: top;\n",
       "    }\n",
       "\n",
       "    .dataframe thead th {\n",
       "        text-align: right;\n",
       "    }\n",
       "</style>\n",
       "<table border=\"1\" class=\"dataframe\">\n",
       "  <thead>\n",
       "    <tr style=\"text-align: right;\">\n",
       "      <th></th>\n",
       "      <th>books_total</th>\n",
       "    </tr>\n",
       "  </thead>\n",
       "  <tbody>\n",
       "    <tr>\n",
       "      <th>0</th>\n",
       "      <td>1000</td>\n",
       "    </tr>\n",
       "  </tbody>\n",
       "</table>\n",
       "</div>"
      ],
      "text/plain": [
       "   books_total\n",
       "0         1000"
      ]
     },
     "execution_count": 10,
     "metadata": {},
     "output_type": "execute_result"
    }
   ],
   "source": [
    "revelio(query_1)"
   ]
  },
  {
   "cell_type": "code",
   "execution_count": 11,
   "id": "88b941c3",
   "metadata": {},
   "outputs": [
    {
     "data": {
      "text/html": [
       "<div>\n",
       "<style scoped>\n",
       "    .dataframe tbody tr th:only-of-type {\n",
       "        vertical-align: middle;\n",
       "    }\n",
       "\n",
       "    .dataframe tbody tr th {\n",
       "        vertical-align: top;\n",
       "    }\n",
       "\n",
       "    .dataframe thead th {\n",
       "        text-align: right;\n",
       "    }\n",
       "</style>\n",
       "<table border=\"1\" class=\"dataframe\">\n",
       "  <thead>\n",
       "    <tr style=\"text-align: right;\">\n",
       "      <th></th>\n",
       "      <th>reviews_total</th>\n",
       "    </tr>\n",
       "  </thead>\n",
       "  <tbody>\n",
       "    <tr>\n",
       "      <th>0</th>\n",
       "      <td>2793</td>\n",
       "    </tr>\n",
       "  </tbody>\n",
       "</table>\n",
       "</div>"
      ],
      "text/plain": [
       "   reviews_total\n",
       "0           2793"
      ]
     },
     "execution_count": 11,
     "metadata": {},
     "output_type": "execute_result"
    }
   ],
   "source": [
    "revelio(query_2)"
   ]
  },
  {
   "cell_type": "code",
   "execution_count": 12,
   "id": "6846bcf5",
   "metadata": {},
   "outputs": [
    {
     "data": {
      "text/html": [
       "<div>\n",
       "<style scoped>\n",
       "    .dataframe tbody tr th:only-of-type {\n",
       "        vertical-align: middle;\n",
       "    }\n",
       "\n",
       "    .dataframe tbody tr th {\n",
       "        vertical-align: top;\n",
       "    }\n",
       "\n",
       "    .dataframe thead th {\n",
       "        text-align: right;\n",
       "    }\n",
       "</style>\n",
       "<table border=\"1\" class=\"dataframe\">\n",
       "  <thead>\n",
       "    <tr style=\"text-align: right;\">\n",
       "      <th></th>\n",
       "      <th>authors_total</th>\n",
       "    </tr>\n",
       "  </thead>\n",
       "  <tbody>\n",
       "    <tr>\n",
       "      <th>0</th>\n",
       "      <td>636</td>\n",
       "    </tr>\n",
       "  </tbody>\n",
       "</table>\n",
       "</div>"
      ],
      "text/plain": [
       "   authors_total\n",
       "0            636"
      ]
     },
     "execution_count": 12,
     "metadata": {},
     "output_type": "execute_result"
    }
   ],
   "source": [
    "revelio(query_3)"
   ]
  },
  {
   "cell_type": "code",
   "execution_count": 13,
   "id": "9dc9d6d8",
   "metadata": {},
   "outputs": [
    {
     "data": {
      "text/html": [
       "<div>\n",
       "<style scoped>\n",
       "    .dataframe tbody tr th:only-of-type {\n",
       "        vertical-align: middle;\n",
       "    }\n",
       "\n",
       "    .dataframe tbody tr th {\n",
       "        vertical-align: top;\n",
       "    }\n",
       "\n",
       "    .dataframe thead th {\n",
       "        text-align: right;\n",
       "    }\n",
       "</style>\n",
       "<table border=\"1\" class=\"dataframe\">\n",
       "  <thead>\n",
       "    <tr style=\"text-align: right;\">\n",
       "      <th></th>\n",
       "      <th>ratings_total</th>\n",
       "    </tr>\n",
       "  </thead>\n",
       "  <tbody>\n",
       "    <tr>\n",
       "      <th>0</th>\n",
       "      <td>6456</td>\n",
       "    </tr>\n",
       "  </tbody>\n",
       "</table>\n",
       "</div>"
      ],
      "text/plain": [
       "   ratings_total\n",
       "0           6456"
      ]
     },
     "execution_count": 13,
     "metadata": {},
     "output_type": "execute_result"
    }
   ],
   "source": [
    "revelio(query_4)"
   ]
  },
  {
   "cell_type": "code",
   "execution_count": 14,
   "id": "22fee4ea",
   "metadata": {},
   "outputs": [
    {
     "data": {
      "text/html": [
       "<div>\n",
       "<style scoped>\n",
       "    .dataframe tbody tr th:only-of-type {\n",
       "        vertical-align: middle;\n",
       "    }\n",
       "\n",
       "    .dataframe tbody tr th {\n",
       "        vertical-align: top;\n",
       "    }\n",
       "\n",
       "    .dataframe thead th {\n",
       "        text-align: right;\n",
       "    }\n",
       "</style>\n",
       "<table border=\"1\" class=\"dataframe\">\n",
       "  <thead>\n",
       "    <tr style=\"text-align: right;\">\n",
       "      <th></th>\n",
       "      <th>publishers_total</th>\n",
       "    </tr>\n",
       "  </thead>\n",
       "  <tbody>\n",
       "    <tr>\n",
       "      <th>0</th>\n",
       "      <td>340</td>\n",
       "    </tr>\n",
       "  </tbody>\n",
       "</table>\n",
       "</div>"
      ],
      "text/plain": [
       "   publishers_total\n",
       "0               340"
      ]
     },
     "execution_count": 14,
     "metadata": {},
     "output_type": "execute_result"
    }
   ],
   "source": [
    "revelio(query_5)"
   ]
  },
  {
   "cell_type": "markdown",
   "id": "38e58a51",
   "metadata": {},
   "source": [
    "**Вывод по разделу:**\n",
    "\n",
    "Мы изучили имющуюся базу. Вот базовая информация по ней:\n",
    "- В нашем распоряжении 1000 книг от 636 авторов;\n",
    "- Книгам выставлено 6456 оценок и суммарно на них написано 2793 отзыва;\n",
    "- В выпуске этих книг участвовало 340 издательств;"
   ]
  },
  {
   "cell_type": "markdown",
   "id": "018807d5",
   "metadata": {},
   "source": [
    "## Анализ базы данных"
   ]
  },
  {
   "cell_type": "markdown",
   "id": "bb1e6164",
   "metadata": {},
   "source": [
    "В этом разделе мы решим следуюшие задачи:\n",
    "\n",
    "- Посчитаем, сколько книг вышло после 1 января 2000 года;\n",
    "- Для каждой книги посчитаем количество обзоров и среднюю оценку;\n",
    "- Определим издательство, которое выпустило наибольшее число книг толще 50 страниц, тем самым исключив из анализа брошюры;\n",
    "- Определим автора с самой высокой средней оценкой книг, учитывая только книги с 50 и более оценками;\n",
    "- Посчитаем среднее количество обзоров от пользователей, которые поставили больше 48 оценок."
   ]
  },
  {
   "cell_type": "markdown",
   "id": "9145d1f2",
   "metadata": {},
   "source": [
    "### Кол-во книг после 01.01.2000\n",
    "\n",
    "Посчитайте, сколько книг вышло после 1 января 2000 года;"
   ]
  },
  {
   "cell_type": "code",
   "execution_count": 15,
   "id": "530e83a6",
   "metadata": {},
   "outputs": [
    {
     "data": {
      "text/html": [
       "<div>\n",
       "<style scoped>\n",
       "    .dataframe tbody tr th:only-of-type {\n",
       "        vertical-align: middle;\n",
       "    }\n",
       "\n",
       "    .dataframe tbody tr th {\n",
       "        vertical-align: top;\n",
       "    }\n",
       "\n",
       "    .dataframe thead th {\n",
       "        text-align: right;\n",
       "    }\n",
       "</style>\n",
       "<table border=\"1\" class=\"dataframe\">\n",
       "  <thead>\n",
       "    <tr style=\"text-align: right;\">\n",
       "      <th></th>\n",
       "      <th>book_cnt</th>\n",
       "    </tr>\n",
       "  </thead>\n",
       "  <tbody>\n",
       "    <tr>\n",
       "      <th>0</th>\n",
       "      <td>819</td>\n",
       "    </tr>\n",
       "  </tbody>\n",
       "</table>\n",
       "</div>"
      ],
      "text/plain": [
       "   book_cnt\n",
       "0       819"
      ]
     },
     "execution_count": 15,
     "metadata": {},
     "output_type": "execute_result"
    }
   ],
   "source": [
    "query = '''\n",
    "\n",
    "SELECT COUNT(book_id) AS book_cnt\n",
    "FROM books\n",
    "WHERE publication_date > '2000-01-01'\n",
    "\n",
    "'''\n",
    "\n",
    "revelio(query)"
   ]
  },
  {
   "cell_type": "markdown",
   "id": "e3f3a1e4",
   "metadata": {},
   "source": [
    "### Кол-во обзоров и средняя оценка"
   ]
  },
  {
   "cell_type": "markdown",
   "id": "47d469b5",
   "metadata": {},
   "source": [
    "Выведем список книг с подсчётом кол-ва обзоров на них. Отсортируем таблицу по кол-ву обзоров, а затем по рейтингу:"
   ]
  },
  {
   "cell_type": "code",
   "execution_count": 16,
   "id": "2b0d3706",
   "metadata": {
    "scrolled": false
   },
   "outputs": [
    {
     "data": {
      "text/html": [
       "<div>\n",
       "<style scoped>\n",
       "    .dataframe tbody tr th:only-of-type {\n",
       "        vertical-align: middle;\n",
       "    }\n",
       "\n",
       "    .dataframe tbody tr th {\n",
       "        vertical-align: top;\n",
       "    }\n",
       "\n",
       "    .dataframe thead th {\n",
       "        text-align: right;\n",
       "    }\n",
       "</style>\n",
       "<table border=\"1\" class=\"dataframe\">\n",
       "  <thead>\n",
       "    <tr style=\"text-align: right;\">\n",
       "      <th></th>\n",
       "      <th>title</th>\n",
       "      <th>reviews_cnt</th>\n",
       "      <th>avg_rating</th>\n",
       "    </tr>\n",
       "  </thead>\n",
       "  <tbody>\n",
       "    <tr>\n",
       "      <th>0</th>\n",
       "      <td>Twilight (Twilight  #1)</td>\n",
       "      <td>7</td>\n",
       "      <td>3.66</td>\n",
       "    </tr>\n",
       "    <tr>\n",
       "      <th>1</th>\n",
       "      <td>Harry Potter and the Prisoner of Azkaban (Harr...</td>\n",
       "      <td>6</td>\n",
       "      <td>4.41</td>\n",
       "    </tr>\n",
       "    <tr>\n",
       "      <th>2</th>\n",
       "      <td>Harry Potter and the Chamber of Secrets (Harry...</td>\n",
       "      <td>6</td>\n",
       "      <td>4.29</td>\n",
       "    </tr>\n",
       "    <tr>\n",
       "      <th>3</th>\n",
       "      <td>The Book Thief</td>\n",
       "      <td>6</td>\n",
       "      <td>4.26</td>\n",
       "    </tr>\n",
       "    <tr>\n",
       "      <th>4</th>\n",
       "      <td>The Glass Castle</td>\n",
       "      <td>6</td>\n",
       "      <td>4.21</td>\n",
       "    </tr>\n",
       "    <tr>\n",
       "      <th>5</th>\n",
       "      <td>Outlander (Outlander  #1)</td>\n",
       "      <td>6</td>\n",
       "      <td>4.13</td>\n",
       "    </tr>\n",
       "    <tr>\n",
       "      <th>6</th>\n",
       "      <td>The Hobbit  or There and Back Again</td>\n",
       "      <td>6</td>\n",
       "      <td>4.13</td>\n",
       "    </tr>\n",
       "    <tr>\n",
       "      <th>7</th>\n",
       "      <td>The Curious Incident of the Dog in the Night-Time</td>\n",
       "      <td>6</td>\n",
       "      <td>4.08</td>\n",
       "    </tr>\n",
       "    <tr>\n",
       "      <th>8</th>\n",
       "      <td>The Lightning Thief (Percy Jackson and the Oly...</td>\n",
       "      <td>6</td>\n",
       "      <td>4.08</td>\n",
       "    </tr>\n",
       "    <tr>\n",
       "      <th>9</th>\n",
       "      <td>Water for Elephants</td>\n",
       "      <td>6</td>\n",
       "      <td>3.98</td>\n",
       "    </tr>\n",
       "    <tr>\n",
       "      <th>10</th>\n",
       "      <td>The Da Vinci Code (Robert Langdon  #2)</td>\n",
       "      <td>6</td>\n",
       "      <td>3.83</td>\n",
       "    </tr>\n",
       "    <tr>\n",
       "      <th>11</th>\n",
       "      <td>The Catcher in the Rye</td>\n",
       "      <td>6</td>\n",
       "      <td>3.83</td>\n",
       "    </tr>\n",
       "    <tr>\n",
       "      <th>12</th>\n",
       "      <td>The Alchemist</td>\n",
       "      <td>6</td>\n",
       "      <td>3.79</td>\n",
       "    </tr>\n",
       "    <tr>\n",
       "      <th>13</th>\n",
       "      <td>The Road</td>\n",
       "      <td>6</td>\n",
       "      <td>3.77</td>\n",
       "    </tr>\n",
       "    <tr>\n",
       "      <th>14</th>\n",
       "      <td>The Giver (The Giver  #1)</td>\n",
       "      <td>6</td>\n",
       "      <td>3.75</td>\n",
       "    </tr>\n",
       "  </tbody>\n",
       "</table>\n",
       "</div>"
      ],
      "text/plain": [
       "                                                title  reviews_cnt  avg_rating\n",
       "0                             Twilight (Twilight  #1)            7        3.66\n",
       "1   Harry Potter and the Prisoner of Azkaban (Harr...            6        4.41\n",
       "2   Harry Potter and the Chamber of Secrets (Harry...            6        4.29\n",
       "3                                      The Book Thief            6        4.26\n",
       "4                                    The Glass Castle            6        4.21\n",
       "5                           Outlander (Outlander  #1)            6        4.13\n",
       "6                 The Hobbit  or There and Back Again            6        4.13\n",
       "7   The Curious Incident of the Dog in the Night-Time            6        4.08\n",
       "8   The Lightning Thief (Percy Jackson and the Oly...            6        4.08\n",
       "9                                 Water for Elephants            6        3.98\n",
       "10             The Da Vinci Code (Robert Langdon  #2)            6        3.83\n",
       "11                             The Catcher in the Rye            6        3.83\n",
       "12                                      The Alchemist            6        3.79\n",
       "13                                           The Road            6        3.77\n",
       "14                          The Giver (The Giver  #1)            6        3.75"
      ]
     },
     "execution_count": 16,
     "metadata": {},
     "output_type": "execute_result"
    }
   ],
   "source": [
    "query = '''\n",
    "\n",
    "SELECT b.title, \n",
    "       COUNT(DISTINCT re.review_id) AS reviews_cnt, \n",
    "       ROUND(AVG(r.rating), 2) AS avg_rating\n",
    "FROM books b\n",
    "\n",
    "LEFT JOIN reviews re\n",
    "ON b.book_id = re.book_id\n",
    "\n",
    "LEFT JOIN  ratings r\n",
    "ON b.book_id = r.book_id\n",
    "\n",
    "GROUP BY b.book_id, b.title\n",
    "ORDER BY reviews_cnt DESC, avg_rating DESC\n",
    "LIMIT 15\n",
    "\n",
    "'''\n",
    "\n",
    "revelio(query)"
   ]
  },
  {
   "cell_type": "markdown",
   "id": "e32e96cf",
   "metadata": {},
   "source": [
    "Ожидаемо, чаще всего отзывы оставляют на мировые бестселлеры - от \"Сумерек\" до \"Алхимика\" и \"Над пропастью во ржи\". "
   ]
  },
  {
   "cell_type": "markdown",
   "id": "6719af97",
   "metadata": {},
   "source": [
    "### Поиск издательства\n",
    "\n",
    "Определим издательство, которое выпустило наибольшее число книг толще 50 страниц и тем самым исключим из анализа брошюры"
   ]
  },
  {
   "cell_type": "code",
   "execution_count": 17,
   "id": "29eb46c1",
   "metadata": {
    "scrolled": false
   },
   "outputs": [
    {
     "data": {
      "text/html": [
       "<div>\n",
       "<style scoped>\n",
       "    .dataframe tbody tr th:only-of-type {\n",
       "        vertical-align: middle;\n",
       "    }\n",
       "\n",
       "    .dataframe tbody tr th {\n",
       "        vertical-align: top;\n",
       "    }\n",
       "\n",
       "    .dataframe thead th {\n",
       "        text-align: right;\n",
       "    }\n",
       "</style>\n",
       "<table border=\"1\" class=\"dataframe\">\n",
       "  <thead>\n",
       "    <tr style=\"text-align: right;\">\n",
       "      <th></th>\n",
       "      <th>publisher</th>\n",
       "      <th>count</th>\n",
       "    </tr>\n",
       "  </thead>\n",
       "  <tbody>\n",
       "    <tr>\n",
       "      <th>0</th>\n",
       "      <td>Penguin Books</td>\n",
       "      <td>42</td>\n",
       "    </tr>\n",
       "    <tr>\n",
       "      <th>1</th>\n",
       "      <td>Vintage</td>\n",
       "      <td>31</td>\n",
       "    </tr>\n",
       "    <tr>\n",
       "      <th>2</th>\n",
       "      <td>Grand Central Publishing</td>\n",
       "      <td>25</td>\n",
       "    </tr>\n",
       "  </tbody>\n",
       "</table>\n",
       "</div>"
      ],
      "text/plain": [
       "                  publisher  count\n",
       "0             Penguin Books     42\n",
       "1                   Vintage     31\n",
       "2  Grand Central Publishing     25"
      ]
     },
     "execution_count": 17,
     "metadata": {},
     "output_type": "execute_result"
    }
   ],
   "source": [
    "query = '''\n",
    "\n",
    "WITH temp AS (\n",
    "    SELECT publisher_id,\n",
    "           book_id\n",
    "    FROM books\n",
    "    WHERE num_pages > 50\n",
    "    )\n",
    "\n",
    "SELECT p.publisher,\n",
    "    COUNT(t.book_id)\n",
    "FROM temp t\n",
    "\n",
    "JOIN publishers p\n",
    "ON t.publisher_id = p.publisher_id\n",
    "\n",
    "GROUP BY p.publisher\n",
    "ORDER BY COUNT(t.book_id) DESC\n",
    "LIMIT 3\n",
    "\n",
    "'''\n",
    "\n",
    "revelio(query)"
   ]
  },
  {
   "cell_type": "markdown",
   "id": "37327e85",
   "metadata": {},
   "source": [
    "Наибольшее кол-во книг выпустило издательство `\"Penguin Books\"` - 42 книги."
   ]
  },
  {
   "cell_type": "markdown",
   "id": "5f7a3d43",
   "metadata": {},
   "source": [
    "### Поиск автора\n",
    "\n",
    "Определим автора с самой высокой средней оценкой книг. Будем учитывать только книги с 50 и более оценками."
   ]
  },
  {
   "cell_type": "code",
   "execution_count": 18,
   "id": "d23c6edd",
   "metadata": {},
   "outputs": [
    {
     "data": {
      "text/html": [
       "<div>\n",
       "<style scoped>\n",
       "    .dataframe tbody tr th:only-of-type {\n",
       "        vertical-align: middle;\n",
       "    }\n",
       "\n",
       "    .dataframe tbody tr th {\n",
       "        vertical-align: top;\n",
       "    }\n",
       "\n",
       "    .dataframe thead th {\n",
       "        text-align: right;\n",
       "    }\n",
       "</style>\n",
       "<table border=\"1\" class=\"dataframe\">\n",
       "  <thead>\n",
       "    <tr style=\"text-align: right;\">\n",
       "      <th></th>\n",
       "      <th>author</th>\n",
       "      <th>avg_rating</th>\n",
       "    </tr>\n",
       "  </thead>\n",
       "  <tbody>\n",
       "    <tr>\n",
       "      <th>0</th>\n",
       "      <td>J.K. Rowling/Mary GrandPré</td>\n",
       "      <td>4.29</td>\n",
       "    </tr>\n",
       "  </tbody>\n",
       "</table>\n",
       "</div>"
      ],
      "text/plain": [
       "                       author  avg_rating\n",
       "0  J.K. Rowling/Mary GrandPré        4.29"
      ]
     },
     "execution_count": 18,
     "metadata": {},
     "output_type": "execute_result"
    }
   ],
   "source": [
    "query = '''\n",
    "\n",
    "WITH temp AS (\n",
    "    SELECT book_id\n",
    "    FROM ratings\n",
    "    GROUP BY book_id\n",
    "    HAVING COUNT(rating_id) >= 50\n",
    "    )\n",
    "\n",
    "\n",
    "SELECT a.author, \n",
    "       ROUND(AVG(r.rating), 2) AS avg_rating\n",
    "FROM books b\n",
    "\n",
    "JOIN temp t\n",
    "ON b.book_id = t.book_id\n",
    "\n",
    "JOIN authors a\n",
    "ON b.author_id = a.author_id\n",
    "\n",
    "JOIN ratings r\n",
    "ON t.book_id = r.book_id\n",
    "\n",
    "GROUP BY a.author_id, a.author\n",
    "ORDER BY AVG(r.rating) DESC\n",
    "\n",
    "LIMIT 1\n",
    "\n",
    "'''\n",
    "\n",
    "revelio(query)"
   ]
  },
  {
   "cell_type": "markdown",
   "id": "4fe8e828",
   "metadata": {},
   "source": [
    "Автором с самым высоким пользовательским рейтингом оказалась Джоан Роулинг. Её работы мы уже видели в ТОП-3 книг по кол-ву обзоров и среднему рейтингу."
   ]
  },
  {
   "cell_type": "markdown",
   "id": "03ea37a2",
   "metadata": {},
   "source": [
    "### Оценки\n",
    "\n",
    "- Посчитаем среднее количество обзоров от пользователей, которые поставили больше 48 оценок."
   ]
  },
  {
   "cell_type": "code",
   "execution_count": 19,
   "id": "40b7676b",
   "metadata": {
    "scrolled": false
   },
   "outputs": [
    {
     "data": {
      "text/html": [
       "<div>\n",
       "<style scoped>\n",
       "    .dataframe tbody tr th:only-of-type {\n",
       "        vertical-align: middle;\n",
       "    }\n",
       "\n",
       "    .dataframe tbody tr th {\n",
       "        vertical-align: top;\n",
       "    }\n",
       "\n",
       "    .dataframe thead th {\n",
       "        text-align: right;\n",
       "    }\n",
       "</style>\n",
       "<table border=\"1\" class=\"dataframe\">\n",
       "  <thead>\n",
       "    <tr style=\"text-align: right;\">\n",
       "      <th></th>\n",
       "      <th>avg_review_cnt</th>\n",
       "    </tr>\n",
       "  </thead>\n",
       "  <tbody>\n",
       "    <tr>\n",
       "      <th>0</th>\n",
       "      <td>24</td>\n",
       "    </tr>\n",
       "  </tbody>\n",
       "</table>\n",
       "</div>"
      ],
      "text/plain": [
       "   avg_review_cnt\n",
       "0              24"
      ]
     },
     "execution_count": 19,
     "metadata": {},
     "output_type": "execute_result"
    }
   ],
   "source": [
    "query = '''\n",
    "\n",
    "WITH temp AS (\n",
    "    SELECT username\n",
    "    FROM ratings\n",
    "    GROUP BY username\n",
    "    HAVING COUNT(rating_id) > 48\n",
    "    )\n",
    "\n",
    "SELECT COUNT(DISTINCT re.text) / COUNT(DISTINCT re.username) AS avg_review_cnt\n",
    "FROM ratings r\n",
    "\n",
    "JOIN reviews re\n",
    "ON r.username = re.username\n",
    "\n",
    "RIGHT JOIN temp t ON r.username = t.username\n",
    "\n",
    "\n",
    "'''\n",
    "\n",
    "revelio(query)"
   ]
  },
  {
   "cell_type": "markdown",
   "id": "7a05e31d",
   "metadata": {},
   "source": [
    "Пользователи пишут обзоры не на каждую книгу, которой они ставят оценку. У пользователей с кол-вом оценок более 48 в среднем 24 текстовых отзыва. Возможно, для нас в будущем было бы полезно поощрять столь активных пользователей."
   ]
  },
  {
   "cell_type": "markdown",
   "id": "0ec89a20",
   "metadata": {},
   "source": [
    "### Выводы:\n",
    "\n",
    "Мы проанализировали базу данных и получили следующую информацию:\n",
    "\n",
    "- В нашем распоряжении 1000 книг от 636 авторов;\n",
    "- Книгам выставлено 6456 оценок и суммарно на них написано 2793 отзыва;\n",
    "- В выпуске этих книг участвовало 340 издательств;\n",
    "____________\n",
    "\n",
    "- 819 книги из нашей базы вышли в свет после 1 янв 2000 года. Значит купленный нашей компанией сервис делал акцент на современной литературе. Классика есть, но её заметно меньше. \n",
    "- Издательство \"Penguin Books\" представлено в нашем ассортименте 42-мя книгами. Это самый большой показатель среди издательств. Возможно, есть смысл расширить сотрудничество и с другими издательствами, т.к. в базе их 340. Это позитивно скажется на ассортименте. \n",
    "- Автор с самым высоким пользовательским рейтингом - Джоан Роулинг. Две её книги входят в топ-3 по кол-ву отзывов;\n",
    "- Чаще всего пользователи оставляют отзывы на мировые бестселлеры - лидером по отзывам являются \"Сумерки\";\n",
    "- У пользователей с кол-вом оценок более 48 в среднем 24 текстовых отзыва."
   ]
  },
  {
   "cell_type": "code",
   "execution_count": null,
   "id": "37d1d3b3",
   "metadata": {},
   "outputs": [],
   "source": []
  }
 ],
 "metadata": {
  "kernelspec": {
   "display_name": "Python 3 (ipykernel)",
   "language": "python",
   "name": "python3"
  },
  "language_info": {
   "codemirror_mode": {
    "name": "ipython",
    "version": 3
   },
   "file_extension": ".py",
   "mimetype": "text/x-python",
   "name": "python",
   "nbconvert_exporter": "python",
   "pygments_lexer": "ipython3",
   "version": "3.9.13"
  },
  "toc": {
   "base_numbering": 1,
   "nav_menu": {},
   "number_sections": true,
   "sideBar": true,
   "skip_h1_title": true,
   "title_cell": "Содержание",
   "title_sidebar": "Содержание",
   "toc_cell": true,
   "toc_position": {
    "height": "calc(100% - 180px)",
    "left": "10px",
    "top": "150px",
    "width": "384px"
   },
   "toc_section_display": true,
   "toc_window_display": true
  }
 },
 "nbformat": 4,
 "nbformat_minor": 5
}
